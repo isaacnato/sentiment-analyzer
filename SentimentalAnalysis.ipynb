{
 "cells": [
  {
   "cell_type": "markdown",
   "id": "collaborative-honor",
   "metadata": {},
   "source": [
    "# Steps import data\n",
    "pip intall sklearn"
   ]
  },
  {
   "cell_type": "code",
   "execution_count": null,
   "id": "unknown-homework",
   "metadata": {},
   "outputs": [],
   "source": [
    "!pip install GetOldTweets3"
   ]
  },
  {
   "cell_type": "code",
   "execution_count": null,
   "id": "reliable-voice",
   "metadata": {},
   "outputs": [],
   "source": [
    "pip3 install sklearn"
   ]
  },
  {
   "cell_type": "code",
   "execution_count": null,
   "id": "stock-winner",
   "metadata": {},
   "outputs": [],
   "source": []
  },
  {
   "cell_type": "code",
   "execution_count": 1,
   "id": "handled-cartoon",
   "metadata": {},
   "outputs": [],
   "source": [
    "\n",
    "import GetOldTweets3 as got\n",
    "import pandas as pd"
   ]
  },
  {
   "cell_type": "code",
   "execution_count": null,
   "id": "guilty-uzbekistan",
   "metadata": {
    "scrolled": true
   },
   "outputs": [],
   "source": []
  },
  {
   "cell_type": "code",
   "execution_count": 128,
   "id": "suburban-obligation",
   "metadata": {
    "scrolled": true
   },
   "outputs": [],
   "source": [
    "df=pd.read_excel(\"tweets.xlsx\",header=None)"
   ]
  },
  {
   "cell_type": "code",
   "execution_count": 129,
   "id": "tired-regard",
   "metadata": {
    "scrolled": true
   },
   "outputs": [
    {
     "data": {
      "text/html": [
       "<div>\n",
       "<style scoped>\n",
       "    .dataframe tbody tr th:only-of-type {\n",
       "        vertical-align: middle;\n",
       "    }\n",
       "\n",
       "    .dataframe tbody tr th {\n",
       "        vertical-align: top;\n",
       "    }\n",
       "\n",
       "    .dataframe thead th {\n",
       "        text-align: right;\n",
       "    }\n",
       "</style>\n",
       "<table border=\"1\" class=\"dataframe\">\n",
       "  <thead>\n",
       "    <tr style=\"text-align: right;\">\n",
       "      <th></th>\n",
       "      <th>0</th>\n",
       "      <th>1</th>\n",
       "      <th>2</th>\n",
       "      <th>3</th>\n",
       "      <th>4</th>\n",
       "      <th>5</th>\n",
       "      <th>6</th>\n",
       "      <th>7</th>\n",
       "      <th>8</th>\n",
       "      <th>9</th>\n",
       "      <th>10</th>\n",
       "      <th>11</th>\n",
       "      <th>12</th>\n",
       "      <th>13</th>\n",
       "      <th>14</th>\n",
       "      <th>15</th>\n",
       "      <th>16</th>\n",
       "      <th>17</th>\n",
       "      <th>18</th>\n",
       "    </tr>\n",
       "  </thead>\n",
       "  <tbody>\n",
       "    <tr>\n",
       "      <th>0</th>\n",
       "      <td>Tweet Id</td>\n",
       "      <td>Text</td>\n",
       "      <td>Name</td>\n",
       "      <td>Screen Name</td>\n",
       "      <td>UTC</td>\n",
       "      <td>Created At</td>\n",
       "      <td>Favorites</td>\n",
       "      <td>Retweets</td>\n",
       "      <td>Language</td>\n",
       "      <td>Client</td>\n",
       "      <td>Tweet Type</td>\n",
       "      <td>URLs</td>\n",
       "      <td>Hashtags</td>\n",
       "      <td>Mentions</td>\n",
       "      <td>Media Type</td>\n",
       "      <td>Media URLs</td>\n",
       "      <td>NaN</td>\n",
       "      <td>NaN</td>\n",
       "      <td>NaN</td>\n",
       "    </tr>\n",
       "    <tr>\n",
       "      <th>1</th>\n",
       "      <td>1377618168705859585</td>\n",
       "      <td>Model 3 deliveries in Europe https://t.co/fiBN...</td>\n",
       "      <td>Tesla</td>\n",
       "      <td>Tesla</td>\n",
       "      <td>2021-04-01T13:45:40.000Z</td>\n",
       "      <td>Thu Apr 01 13:45:40 +0000 2021</td>\n",
       "      <td>24152</td>\n",
       "      <td>1625</td>\n",
       "      <td>da</td>\n",
       "      <td>&lt;a href=\"http://twitter.com/download/iphone\" r...</td>\n",
       "      <td>Tweet</td>\n",
       "      <td>NaN</td>\n",
       "      <td>0</td>\n",
       "      <td>0</td>\n",
       "      <td>photo</td>\n",
       "      <td>https://pbs.twimg.com/media/Ex5IasZXMA4cVD8.jpg</td>\n",
       "      <td>https://pbs.twimg.com/media/Ex5IasiW8AAMVRk.jpg</td>\n",
       "      <td>https://pbs.twimg.com/media/Ex5IasoWUA0jdCg.jpg</td>\n",
       "      <td>https://pbs.twimg.com/media/Ex5IaslWgAc97h_.jpg</td>\n",
       "    </tr>\n",
       "    <tr>\n",
       "      <th>2</th>\n",
       "      <td>1375118425362628613</td>\n",
       "      <td>6,000+ Superchargers across Europe — at 600 lo...</td>\n",
       "      <td>Tesla</td>\n",
       "      <td>Tesla</td>\n",
       "      <td>2021-03-25T16:12:35.000Z</td>\n",
       "      <td>Thu Mar 25 16:12:35 +0000 2021</td>\n",
       "      <td>51615</td>\n",
       "      <td>4339</td>\n",
       "      <td>en</td>\n",
       "      <td>&lt;a href=\"http://twitter.com/download/iphone\" r...</td>\n",
       "      <td>Tweet</td>\n",
       "      <td>NaN</td>\n",
       "      <td>0</td>\n",
       "      <td>3</td>\n",
       "      <td>photo</td>\n",
       "      <td>https://pbs.twimg.com/media/ExVm6fuWUAQUFOh.jpg</td>\n",
       "      <td>https://pbs.twimg.com/media/ExVm6fvW8AIjLDy.jpg</td>\n",
       "      <td>https://pbs.twimg.com/media/ExVm6fwWgAgTDPa.jpg</td>\n",
       "      <td>https://pbs.twimg.com/media/ExVm6frWUAcr1EH.jpg</td>\n",
       "    </tr>\n",
       "    <tr>\n",
       "      <th>3</th>\n",
       "      <td>1374481774714126338</td>\n",
       "      <td>RT @Fogdo : Thank you @Tesla for this helpful ...</td>\n",
       "      <td>Tesla</td>\n",
       "      <td>Tesla</td>\n",
       "      <td>2021-03-23T22:02:46.000Z</td>\n",
       "      <td>Tue Mar 23 22:02:46 +0000 2021</td>\n",
       "      <td>0</td>\n",
       "      <td>0</td>\n",
       "      <td>en</td>\n",
       "      <td>&lt;a href=\"http://twitter.com/download/iphone\" r...</td>\n",
       "      <td>Retweet</td>\n",
       "      <td>NaN</td>\n",
       "      <td>0</td>\n",
       "      <td>1</td>\n",
       "      <td>video</td>\n",
       "      <td>https://video.twimg.com/ext_tw_video/117068847...</td>\n",
       "      <td>NaN</td>\n",
       "      <td>NaN</td>\n",
       "      <td>NaN</td>\n",
       "    </tr>\n",
       "    <tr>\n",
       "      <th>4</th>\n",
       "      <td>1371884988371771399</td>\n",
       "      <td>Backseat views from Model Y\\n\\n📸 by loghi007 o...</td>\n",
       "      <td>Tesla</td>\n",
       "      <td>Tesla</td>\n",
       "      <td>2021-03-16T18:04:04.000Z</td>\n",
       "      <td>Tue Mar 16 18:04:04 +0000 2021</td>\n",
       "      <td>44971</td>\n",
       "      <td>4112</td>\n",
       "      <td>en</td>\n",
       "      <td>&lt;a href=\"http://twitter.com/download/iphone\" r...</td>\n",
       "      <td>Tweet</td>\n",
       "      <td>NaN</td>\n",
       "      <td>0</td>\n",
       "      <td>0</td>\n",
       "      <td>video</td>\n",
       "      <td>https://video.twimg.com/ext_tw_video/137188490...</td>\n",
       "      <td>NaN</td>\n",
       "      <td>NaN</td>\n",
       "      <td>NaN</td>\n",
       "    </tr>\n",
       "  </tbody>\n",
       "</table>\n",
       "</div>"
      ],
      "text/plain": [
       "                    0                                                  1   \\\n",
       "0             Tweet Id                                               Text   \n",
       "1  1377618168705859585  Model 3 deliveries in Europe https://t.co/fiBN...   \n",
       "2  1375118425362628613  6,000+ Superchargers across Europe — at 600 lo...   \n",
       "3  1374481774714126338  RT @Fogdo : Thank you @Tesla for this helpful ...   \n",
       "4  1371884988371771399  Backseat views from Model Y\\n\\n📸 by loghi007 o...   \n",
       "\n",
       "      2            3                         4   \\\n",
       "0   Name  Screen Name                       UTC   \n",
       "1  Tesla        Tesla  2021-04-01T13:45:40.000Z   \n",
       "2  Tesla        Tesla  2021-03-25T16:12:35.000Z   \n",
       "3  Tesla        Tesla  2021-03-23T22:02:46.000Z   \n",
       "4  Tesla        Tesla  2021-03-16T18:04:04.000Z   \n",
       "\n",
       "                               5          6         7         8   \\\n",
       "0                      Created At  Favorites  Retweets  Language   \n",
       "1  Thu Apr 01 13:45:40 +0000 2021      24152      1625        da   \n",
       "2  Thu Mar 25 16:12:35 +0000 2021      51615      4339        en   \n",
       "3  Tue Mar 23 22:02:46 +0000 2021          0         0        en   \n",
       "4  Tue Mar 16 18:04:04 +0000 2021      44971      4112        en   \n",
       "\n",
       "                                                  9           10    11  \\\n",
       "0                                             Client  Tweet Type  URLs   \n",
       "1  <a href=\"http://twitter.com/download/iphone\" r...       Tweet   NaN   \n",
       "2  <a href=\"http://twitter.com/download/iphone\" r...       Tweet   NaN   \n",
       "3  <a href=\"http://twitter.com/download/iphone\" r...     Retweet   NaN   \n",
       "4  <a href=\"http://twitter.com/download/iphone\" r...       Tweet   NaN   \n",
       "\n",
       "         12        13          14  \\\n",
       "0  Hashtags  Mentions  Media Type   \n",
       "1         0         0       photo   \n",
       "2         0         3       photo   \n",
       "3         0         1       video   \n",
       "4         0         0       video   \n",
       "\n",
       "                                                  15  \\\n",
       "0                                         Media URLs   \n",
       "1    https://pbs.twimg.com/media/Ex5IasZXMA4cVD8.jpg   \n",
       "2    https://pbs.twimg.com/media/ExVm6fuWUAQUFOh.jpg   \n",
       "3  https://video.twimg.com/ext_tw_video/117068847...   \n",
       "4  https://video.twimg.com/ext_tw_video/137188490...   \n",
       "\n",
       "                                                16  \\\n",
       "0                                              NaN   \n",
       "1  https://pbs.twimg.com/media/Ex5IasiW8AAMVRk.jpg   \n",
       "2  https://pbs.twimg.com/media/ExVm6fvW8AIjLDy.jpg   \n",
       "3                                              NaN   \n",
       "4                                              NaN   \n",
       "\n",
       "                                                17  \\\n",
       "0                                              NaN   \n",
       "1  https://pbs.twimg.com/media/Ex5IasoWUA0jdCg.jpg   \n",
       "2  https://pbs.twimg.com/media/ExVm6fwWgAgTDPa.jpg   \n",
       "3                                              NaN   \n",
       "4                                              NaN   \n",
       "\n",
       "                                                18  \n",
       "0                                              NaN  \n",
       "1  https://pbs.twimg.com/media/Ex5IaslWgAc97h_.jpg  \n",
       "2  https://pbs.twimg.com/media/ExVm6frWUAcr1EH.jpg  \n",
       "3                                              NaN  \n",
       "4                                              NaN  "
      ]
     },
     "execution_count": 129,
     "metadata": {},
     "output_type": "execute_result"
    }
   ],
   "source": [
    "df.head()"
   ]
  },
  {
   "cell_type": "code",
   "execution_count": 130,
   "id": "american-siemens",
   "metadata": {},
   "outputs": [],
   "source": [
    "cols = [0,1,5,6]\n",
    "df = df[df.columns[cols]]\n",
    "\n",
    "#Tweet Id \tText \tName \tScreen Name \tUTC \tCreated At \tFavorites \tRetweets \tLanguage \tClient \tTweet Type \tURLs \tHashtags \tMentions \tMedia Type \tMedia URLs \tNaN \tNaN \t\n"
   ]
  },
  {
   "cell_type": "code",
   "execution_count": 131,
   "id": "sized-commerce",
   "metadata": {},
   "outputs": [
    {
     "data": {
      "text/html": [
       "<div>\n",
       "<style scoped>\n",
       "    .dataframe tbody tr th:only-of-type {\n",
       "        vertical-align: middle;\n",
       "    }\n",
       "\n",
       "    .dataframe tbody tr th {\n",
       "        vertical-align: top;\n",
       "    }\n",
       "\n",
       "    .dataframe thead th {\n",
       "        text-align: right;\n",
       "    }\n",
       "</style>\n",
       "<table border=\"1\" class=\"dataframe\">\n",
       "  <thead>\n",
       "    <tr style=\"text-align: right;\">\n",
       "      <th></th>\n",
       "      <th>0</th>\n",
       "      <th>1</th>\n",
       "      <th>5</th>\n",
       "      <th>6</th>\n",
       "    </tr>\n",
       "  </thead>\n",
       "  <tbody>\n",
       "    <tr>\n",
       "      <th>0</th>\n",
       "      <td>Tweet Id</td>\n",
       "      <td>Text</td>\n",
       "      <td>Created At</td>\n",
       "      <td>Favorites</td>\n",
       "    </tr>\n",
       "    <tr>\n",
       "      <th>1</th>\n",
       "      <td>1377618168705859585</td>\n",
       "      <td>Model 3 deliveries in Europe https://t.co/fiBN...</td>\n",
       "      <td>Thu Apr 01 13:45:40 +0000 2021</td>\n",
       "      <td>24152</td>\n",
       "    </tr>\n",
       "    <tr>\n",
       "      <th>2</th>\n",
       "      <td>1375118425362628613</td>\n",
       "      <td>6,000+ Superchargers across Europe — at 600 lo...</td>\n",
       "      <td>Thu Mar 25 16:12:35 +0000 2021</td>\n",
       "      <td>51615</td>\n",
       "    </tr>\n",
       "    <tr>\n",
       "      <th>3</th>\n",
       "      <td>1374481774714126338</td>\n",
       "      <td>RT @Fogdo : Thank you @Tesla for this helpful ...</td>\n",
       "      <td>Tue Mar 23 22:02:46 +0000 2021</td>\n",
       "      <td>0</td>\n",
       "    </tr>\n",
       "    <tr>\n",
       "      <th>4</th>\n",
       "      <td>1371884988371771399</td>\n",
       "      <td>Backseat views from Model Y\\n\\n📸 by loghi007 o...</td>\n",
       "      <td>Tue Mar 16 18:04:04 +0000 2021</td>\n",
       "      <td>44971</td>\n",
       "    </tr>\n",
       "  </tbody>\n",
       "</table>\n",
       "</div>"
      ],
      "text/plain": [
       "                     0                                                  1  \\\n",
       "0             Tweet Id                                               Text   \n",
       "1  1377618168705859585  Model 3 deliveries in Europe https://t.co/fiBN...   \n",
       "2  1375118425362628613  6,000+ Superchargers across Europe — at 600 lo...   \n",
       "3  1374481774714126338  RT @Fogdo : Thank you @Tesla for this helpful ...   \n",
       "4  1371884988371771399  Backseat views from Model Y\\n\\n📸 by loghi007 o...   \n",
       "\n",
       "                                5          6  \n",
       "0                      Created At  Favorites  \n",
       "1  Thu Apr 01 13:45:40 +0000 2021      24152  \n",
       "2  Thu Mar 25 16:12:35 +0000 2021      51615  \n",
       "3  Tue Mar 23 22:02:46 +0000 2021          0  \n",
       "4  Tue Mar 16 18:04:04 +0000 2021      44971  "
      ]
     },
     "execution_count": 131,
     "metadata": {},
     "output_type": "execute_result"
    }
   ],
   "source": [
    "df.head()"
   ]
  },
  {
   "cell_type": "code",
   "execution_count": 132,
   "id": "ambient-congress",
   "metadata": {},
   "outputs": [],
   "source": [
    "import sklearn"
   ]
  },
  {
   "cell_type": "code",
   "execution_count": 133,
   "id": "grave-package",
   "metadata": {},
   "outputs": [],
   "source": [
    "from sklearn.tree import DecisionTreeClassifier"
   ]
  },
  {
   "cell_type": "code",
   "execution_count": null,
   "id": "gorgeous-regular",
   "metadata": {},
   "outputs": [],
   "source": []
  },
  {
   "cell_type": "markdown",
   "id": "divine-first",
   "metadata": {},
   "source": [
    "# clean data"
   ]
  },
  {
   "cell_type": "code",
   "execution_count": 162,
   "id": "exempt-lawyer",
   "metadata": {},
   "outputs": [],
   "source": [
    "import nltk\n",
    "import re\n",
    "import pandas as pd\n",
    "import numpy as np\n",
    "import string"
   ]
  },
  {
   "cell_type": "code",
   "execution_count": 163,
   "id": "closing-ozone",
   "metadata": {},
   "outputs": [
    {
     "data": {
      "text/plain": [
       "(3196, 5)"
      ]
     },
     "execution_count": 163,
     "metadata": {},
     "output_type": "execute_result"
    }
   ],
   "source": [
    "df = df.drop_duplicates()\n",
    "df.drop\n",
    "df.shape\n",
    "#tweet = df[cols[1]]"
   ]
  },
  {
   "cell_type": "code",
   "execution_count": 164,
   "id": "third-maine",
   "metadata": {},
   "outputs": [
    {
     "data": {
      "text/plain": [
       "0                                                    Text\n",
       "1       Model 3 deliveries in Europe https://t.co/fiBN...\n",
       "2       6,000+ Superchargers across Europe — at 600 lo...\n",
       "3       RT @Fogdo : Thank you @Tesla for this helpful ...\n",
       "4       Backseat views from Model Y\\n\\n📸 by loghi007 o...\n",
       "                              ...                        \n",
       "3191                    @Standohar This picture is great.\n",
       "3192    @JasonGFox @seansparkman Have either of you ha...\n",
       "3193     @jblood Have you had a chance to sit in one yet?\n",
       "3194    RT @elonmusk : Edmunds beats Tesla LA-NY recor...\n",
       "3195    @sirrobsonp Stay tuned for our Gen III car in ...\n",
       "Name: 1, Length: 3196, dtype: object"
      ]
     },
     "execution_count": 164,
     "metadata": {},
     "output_type": "execute_result"
    }
   ],
   "source": [
    "df[1]"
   ]
  },
  {
   "cell_type": "code",
   "execution_count": 175,
   "id": "appreciated-princeton",
   "metadata": {},
   "outputs": [
    {
     "ename": "SyntaxError",
     "evalue": "cannot assign to function call (<ipython-input-175-1ed222c485d3>, line 6)",
     "output_type": "error",
     "traceback": [
      "\u001b[0;36m  File \u001b[0;32m\"<ipython-input-175-1ed222c485d3>\"\u001b[0;36m, line \u001b[0;32m6\u001b[0m\n\u001b[0;31m    clear_punctions(df[4]) = df[1].apply(lambda x:remove_punct(x))\u001b[0m\n\u001b[0m    ^\u001b[0m\n\u001b[0;31mSyntaxError\u001b[0m\u001b[0;31m:\u001b[0m cannot assign to function call\n"
     ]
    }
   ],
   "source": []
  },
  {
   "cell_type": "code",
   "execution_count": null,
   "id": "funky-bracelet",
   "metadata": {},
   "outputs": [],
   "source": []
  },
  {
   "cell_type": "code",
   "execution_count": 138,
   "id": "missing-developer",
   "metadata": {},
   "outputs": [
    {
     "data": {
      "text/html": [
       "<div>\n",
       "<style scoped>\n",
       "    .dataframe tbody tr th:only-of-type {\n",
       "        vertical-align: middle;\n",
       "    }\n",
       "\n",
       "    .dataframe tbody tr th {\n",
       "        vertical-align: top;\n",
       "    }\n",
       "\n",
       "    .dataframe thead th {\n",
       "        text-align: right;\n",
       "    }\n",
       "</style>\n",
       "<table border=\"1\" class=\"dataframe\">\n",
       "  <thead>\n",
       "    <tr style=\"text-align: right;\">\n",
       "      <th></th>\n",
       "      <th>0</th>\n",
       "      <th>1</th>\n",
       "      <th>5</th>\n",
       "      <th>6</th>\n",
       "      <th>4</th>\n",
       "    </tr>\n",
       "  </thead>\n",
       "  <tbody>\n",
       "    <tr>\n",
       "      <th>0</th>\n",
       "      <td>Tweet Id</td>\n",
       "      <td>Text</td>\n",
       "      <td>Created At</td>\n",
       "      <td>Favorites</td>\n",
       "      <td>sirrobsonp Stay tuned for our Gen III car in a...</td>\n",
       "    </tr>\n",
       "    <tr>\n",
       "      <th>1</th>\n",
       "      <td>1377618168705859585</td>\n",
       "      <td>Model 3 deliveries in Europe https://t.co/fiBN...</td>\n",
       "      <td>Thu Apr 01 13:45:40 +0000 2021</td>\n",
       "      <td>24152</td>\n",
       "      <td>sirrobsonp Stay tuned for our Gen III car in a...</td>\n",
       "    </tr>\n",
       "    <tr>\n",
       "      <th>2</th>\n",
       "      <td>1375118425362628613</td>\n",
       "      <td>6,000+ Superchargers across Europe — at 600 lo...</td>\n",
       "      <td>Thu Mar 25 16:12:35 +0000 2021</td>\n",
       "      <td>51615</td>\n",
       "      <td>sirrobsonp Stay tuned for our Gen III car in a...</td>\n",
       "    </tr>\n",
       "    <tr>\n",
       "      <th>3</th>\n",
       "      <td>1374481774714126338</td>\n",
       "      <td>RT @Fogdo : Thank you @Tesla for this helpful ...</td>\n",
       "      <td>Tue Mar 23 22:02:46 +0000 2021</td>\n",
       "      <td>0</td>\n",
       "      <td>sirrobsonp Stay tuned for our Gen III car in a...</td>\n",
       "    </tr>\n",
       "    <tr>\n",
       "      <th>4</th>\n",
       "      <td>1371884988371771399</td>\n",
       "      <td>Backseat views from Model Y\\n\\n📸 by loghi007 o...</td>\n",
       "      <td>Tue Mar 16 18:04:04 +0000 2021</td>\n",
       "      <td>44971</td>\n",
       "      <td>sirrobsonp Stay tuned for our Gen III car in a...</td>\n",
       "    </tr>\n",
       "  </tbody>\n",
       "</table>\n",
       "</div>"
      ],
      "text/plain": [
       "                     0                                                  1  \\\n",
       "0             Tweet Id                                               Text   \n",
       "1  1377618168705859585  Model 3 deliveries in Europe https://t.co/fiBN...   \n",
       "2  1375118425362628613  6,000+ Superchargers across Europe — at 600 lo...   \n",
       "3  1374481774714126338  RT @Fogdo : Thank you @Tesla for this helpful ...   \n",
       "4  1371884988371771399  Backseat views from Model Y\\n\\n📸 by loghi007 o...   \n",
       "\n",
       "                                5          6  \\\n",
       "0                      Created At  Favorites   \n",
       "1  Thu Apr 01 13:45:40 +0000 2021      24152   \n",
       "2  Thu Mar 25 16:12:35 +0000 2021      51615   \n",
       "3  Tue Mar 23 22:02:46 +0000 2021          0   \n",
       "4  Tue Mar 16 18:04:04 +0000 2021      44971   \n",
       "\n",
       "                                                   4  \n",
       "0  sirrobsonp Stay tuned for our Gen III car in a...  \n",
       "1  sirrobsonp Stay tuned for our Gen III car in a...  \n",
       "2  sirrobsonp Stay tuned for our Gen III car in a...  \n",
       "3  sirrobsonp Stay tuned for our Gen III car in a...  \n",
       "4  sirrobsonp Stay tuned for our Gen III car in a...  "
      ]
     },
     "execution_count": 138,
     "metadata": {},
     "output_type": "execute_result"
    }
   ],
   "source": [
    "df.head()"
   ]
  },
  {
   "cell_type": "markdown",
   "id": "champion-helmet",
   "metadata": {},
   "source": [
    "# split data"
   ]
  },
  {
   "cell_type": "markdown",
   "id": "medieval-emphasis",
   "metadata": {},
   "source": [
    "# create a model"
   ]
  },
  {
   "cell_type": "markdown",
   "id": "induced-moment",
   "metadata": {},
   "source": [
    "# Train model"
   ]
  },
  {
   "cell_type": "markdown",
   "id": "temporal-rates",
   "metadata": {},
   "source": [
    "# Make Prediction"
   ]
  },
  {
   "cell_type": "markdown",
   "id": "satellite-following",
   "metadata": {},
   "source": [
    "# Evaluate and improve the model"
   ]
  }
 ],
 "metadata": {
  "kernelspec": {
   "display_name": "Python 3",
   "language": "python",
   "name": "python3"
  },
  "language_info": {
   "codemirror_mode": {
    "name": "ipython",
    "version": 3
   },
   "file_extension": ".py",
   "mimetype": "text/x-python",
   "name": "python",
   "nbconvert_exporter": "python",
   "pygments_lexer": "ipython3",
   "version": "3.8.5"
  }
 },
 "nbformat": 4,
 "nbformat_minor": 5
}
